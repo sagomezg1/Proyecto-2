{
 "cells": [
  {
   "cell_type": "code",
   "execution_count": 4,
   "metadata": {},
   "outputs": [
    {
     "name": "stderr",
     "output_type": "stream",
     "text": [
      "\"pip\" no se reconoce como un comando interno o externo,\n",
      "programa o archivo por lotes ejecutable.\n"
     ]
    },
    {
     "ename": "ModuleNotFoundError",
     "evalue": "No module named 'dash'",
     "output_type": "error",
     "traceback": [
      "\u001b[1;31m---------------------------------------------------------------------------\u001b[0m",
      "\u001b[1;31mModuleNotFoundError\u001b[0m                       Traceback (most recent call last)",
      "Cell \u001b[1;32mIn[4], line 2\u001b[0m\n\u001b[0;32m      1\u001b[0m get_ipython()\u001b[38;5;241m.\u001b[39msystem(\u001b[38;5;124m'\u001b[39m\u001b[38;5;124mpip install dash\u001b[39m\u001b[38;5;124m'\u001b[39m)\n\u001b[1;32m----> 2\u001b[0m \u001b[38;5;28;01mimport\u001b[39;00m \u001b[38;5;21;01mdash\u001b[39;00m\n\u001b[0;32m      3\u001b[0m \u001b[38;5;28;01mfrom\u001b[39;00m \u001b[38;5;21;01mdash\u001b[39;00m \u001b[38;5;28;01mimport\u001b[39;00m dcc, html\n\u001b[0;32m      4\u001b[0m \u001b[38;5;28;01mfrom\u001b[39;00m \u001b[38;5;21;01mdash\u001b[39;00m\u001b[38;5;21;01m.\u001b[39;00m\u001b[38;5;21;01mdependencies\u001b[39;00m \u001b[38;5;28;01mimport\u001b[39;00m Input, Output\n",
      "\u001b[1;31mModuleNotFoundError\u001b[0m: No module named 'dash'"
     ]
    }
   ],
   "source": [
    "!pip install dash\n",
    "import dash\n",
    "from dash import dcc, html\n",
    "from dash.dependencies import Input, Output\n",
    "import plotly.express as px\n",
    "import pandas as pd\n",
    "import numpy as np\n",
    "from sklearn.linear_model import LinearRegression\n",
    "\n",
    "# Cargar los datos desde el archivo CSV (ruta ajustada para el código local)\n",
    "df = pd.read_csv('SeoulBikeData_utf8.csv')\n",
    "\n",
    "# Transformaciones de los datos (basado en tu notebook)\n",
    "df['Date'] = pd.to_datetime(df['Date'], format='%d/%m/%Y')\n",
    "df['Holiday'] = df['Holiday'].map({'No Holiday': 0, 'Holiday': 1})\n",
    "df['Functioning Day'] = df['Functioning Day'].map({'Yes': 1, 'No': 0})\n",
    "df = pd.get_dummies(df, columns=['Seasons'], drop_first=True)\n",
    "\n",
    "# Simular el modelo de regresión lineal múltiple\n",
    "X = df[['Hour', 'Temperature(C)', 'Humidity(%)', 'Wind speed (m/s)', 'Holiday', 'Functioning Day']]\n",
    "y = df['Rented Bike Count']\n",
    "model = LinearRegression()\n",
    "model.fit(X, y)\n",
    "\n",
    "# Inicializar la aplicación Dash\n",
    "app = dash.Dash(__name__)\n",
    "\n",
    "# Layout del tablero\n",
    "app.layout = html.Div(children=[\n",
    "    html.H1(children='Tablero de Bicicletas Compartidas'),\n",
    "\n",
    "    html.Div([\n",
    "        html.Label('Seleccione la Hora del Día:'),\n",
    "        dcc.Slider(id='input_hour', min=0, max=23, step=1, value=12,\n",
    "                   marks={i: f'{i}:00' for i in range(0, 24)}),\n",
    "        \n",
    "        html.Label('Seleccione la Temperatura (°C):'),\n",
    "        dcc.Slider(id='input_temp', min=-10, max=35, step=1, value=20,\n",
    "                   marks={i: f'{i}°C' for i in range(-10, 36, 5)}),\n",
    "        \n",
    "        html.Label('Seleccione la Humedad (%):'),\n",
    "        dcc.Slider(id='input_humidity', min=0, max=100, step=1, value=50,\n",
    "                   marks={i: f'{i}%' for i in range(0, 101, 10)}),\n",
    "        \n",
    "        html.Label('Velocidad del viento (m/s):'),\n",
    "        dcc.Slider(id='input_wind', min=0, max=10, step=0.5, value=5,\n",
    "                   marks={i: f'{i} m/s' for i in range(0, 11)}),\n",
    "        \n",
    "        html.Label('¿Es un día festivo?:'),\n",
    "        dcc.Dropdown(id='input_holiday', options=[{'label': 'Sí', 'value': 1}, {'label': 'No', 'value': 0}],\n",
    "                     value=0),\n",
    "        \n",
    "        html.Label('¿Es un día hábil?:'),\n",
    "        dcc.Dropdown(id='input_functioning_day', options=[{'label': 'Sí', 'value': 1}, {'label': 'No', 'value': 0}],\n",
    "                     value=1)\n",
    "    ], style={'padding': 20, 'width': '50%'}),\n",
    "\n",
    "    html.H2('Predicción de bicicletas alquiladas:'),\n",
    "    html.Div(id='output_prediction'),\n",
    "\n",
    "    dcc.Graph(id='output_graph')\n",
    "])\n",
    "\n",
    "# Callback para actualizar la predicción y gráfico\n",
    "@app.callback(\n",
    "    [Output('output_prediction', 'children'),\n",
    "     Output('output_graph', 'figure')],\n",
    "    [Input('input_hour', 'value'),\n",
    "     Input('input_temp', 'value'),\n",
    "     Input('input_humidity', 'value'),\n",
    "     Input('input_wind', 'value'),\n",
    "     Input('input_holiday', 'value'),\n",
    "     Input('input_functioning_day', 'value')]\n",
    ")\n",
    "def update_prediction(hour, temp, humidity, wind, holiday, functioning_day):\n",
    "    # Realizar la predicción basada en los inputs\n",
    "    X_new = np.array([[hour, temp, humidity, wind, holiday, functioning_day]])\n",
    "    prediction = model.predict(X_new)[0]\n",
    "\n",
    "    # Crear gráfico de barras para visualización de la demanda por hora\n",
    "    filtered_df = df[(df['Temperature(C)'] == temp) & (df['Humidity(%)'] == humidity)]\n",
    "    fig = px.bar(filtered_df, x='Hour', y='Rented Bike Count', title='Bicicletas alquiladas por hora')\n",
    "\n",
    "    return f\"Predicción: {int(prediction)} bicicletas alquiladas\", fig\n",
    "\n",
    "# Ejecutar la app\n",
    "if __name__ == '__main__':\n",
    "    app.run_server(debug=True)\n"
   ]
  },
  {
   "cell_type": "code",
   "execution_count": null,
   "metadata": {},
   "outputs": [],
   "source": []
  }
 ],
 "metadata": {
  "kernelspec": {
   "display_name": "Python 3",
   "language": "python",
   "name": "python3"
  },
  "language_info": {
   "codemirror_mode": {
    "name": "ipython",
    "version": 3
   },
   "file_extension": ".py",
   "mimetype": "text/x-python",
   "name": "python",
   "nbconvert_exporter": "python",
   "pygments_lexer": "ipython3",
   "version": "3.11.0"
  }
 },
 "nbformat": 4,
 "nbformat_minor": 2
}
